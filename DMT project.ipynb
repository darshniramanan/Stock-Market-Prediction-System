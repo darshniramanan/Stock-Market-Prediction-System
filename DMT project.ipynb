{
 "cells": [
  {
   "cell_type": "code",
   "execution_count": 1,
   "id": "d3701cb0",
   "metadata": {},
   "outputs": [],
   "source": [
    "#Importing Important Libraries\n",
    "import numpy as np\n",
    "import pandas as pd\n",
    "import matplotlib.pyplot as plt"
   ]
  },
  {
   "cell_type": "code",
   "execution_count": 2,
   "id": "1182c827",
   "metadata": {},
   "outputs": [],
   "source": [
    "#Importing the datasets\n",
    "dataset = pd.read_csv('Google_Stock_Price.csv')"
   ]
  },
  {
   "cell_type": "code",
   "execution_count": 3,
   "id": "9e85d3bc",
   "metadata": {},
   "outputs": [],
   "source": [
    "#Droping all the NULL values\n",
    "dataset.set_index(\"Date\", inplace=True)\n",
    "dataset.dropna(inplace=True)"
   ]
  },
  {
   "cell_type": "code",
   "execution_count": 4,
   "id": "0242ce12",
   "metadata": {},
   "outputs": [
    {
     "name": "stdout",
     "output_type": "stream",
     "text": [
      "Dataframe shape:  (255, 6)\n",
      "NULL value present:  False\n"
     ]
    }
   ],
   "source": [
    "#Print dataframe shape and check NULL values\n",
    "print(\"Dataframe shape: \", dataset.shape)\n",
    "print(\"NULL value present: \",dataset.isnull().values.any())\n"
   ]
  },
  {
   "cell_type": "code",
   "execution_count": 5,
   "id": "67f0228c",
   "metadata": {},
   "outputs": [
    {
     "data": {
      "text/html": [
       "<div>\n",
       "<style scoped>\n",
       "    .dataframe tbody tr th:only-of-type {\n",
       "        vertical-align: middle;\n",
       "    }\n",
       "\n",
       "    .dataframe tbody tr th {\n",
       "        vertical-align: top;\n",
       "    }\n",
       "\n",
       "    .dataframe thead th {\n",
       "        text-align: right;\n",
       "    }\n",
       "</style>\n",
       "<table border=\"1\" class=\"dataframe\">\n",
       "  <thead>\n",
       "    <tr style=\"text-align: right;\">\n",
       "      <th></th>\n",
       "      <th>Open</th>\n",
       "      <th>High</th>\n",
       "      <th>Low</th>\n",
       "      <th>Close</th>\n",
       "      <th>Adj Close</th>\n",
       "      <th>Volume</th>\n",
       "    </tr>\n",
       "    <tr>\n",
       "      <th>Date</th>\n",
       "      <th></th>\n",
       "      <th></th>\n",
       "      <th></th>\n",
       "      <th></th>\n",
       "      <th></th>\n",
       "      <th></th>\n",
       "    </tr>\n",
       "  </thead>\n",
       "  <tbody>\n",
       "    <tr>\n",
       "      <th>2021-04-06</th>\n",
       "      <td>2222.500000</td>\n",
       "      <td>2237.659912</td>\n",
       "      <td>2214.800049</td>\n",
       "      <td>2224.750000</td>\n",
       "      <td>2224.750000</td>\n",
       "      <td>1353000</td>\n",
       "    </tr>\n",
       "    <tr>\n",
       "      <th>2021-04-07</th>\n",
       "      <td>2226.129883</td>\n",
       "      <td>2255.000000</td>\n",
       "      <td>2225.330078</td>\n",
       "      <td>2249.679932</td>\n",
       "      <td>2249.679932</td>\n",
       "      <td>1289900</td>\n",
       "    </tr>\n",
       "    <tr>\n",
       "      <th>2021-04-08</th>\n",
       "      <td>2277.959961</td>\n",
       "      <td>2284.004883</td>\n",
       "      <td>2257.679932</td>\n",
       "      <td>2265.439941</td>\n",
       "      <td>2265.439941</td>\n",
       "      <td>1358300</td>\n",
       "    </tr>\n",
       "    <tr>\n",
       "      <th>2021-04-09</th>\n",
       "      <td>2256.699951</td>\n",
       "      <td>2289.040039</td>\n",
       "      <td>2253.714111</td>\n",
       "      <td>2285.879883</td>\n",
       "      <td>2285.879883</td>\n",
       "      <td>1044400</td>\n",
       "    </tr>\n",
       "    <tr>\n",
       "      <th>2021-04-12</th>\n",
       "      <td>2266.250000</td>\n",
       "      <td>2275.320068</td>\n",
       "      <td>2238.465088</td>\n",
       "      <td>2254.790039</td>\n",
       "      <td>2254.790039</td>\n",
       "      <td>1565900</td>\n",
       "    </tr>\n",
       "  </tbody>\n",
       "</table>\n",
       "</div>"
      ],
      "text/plain": [
       "                   Open         High          Low        Close    Adj Close  \\\n",
       "Date                                                                          \n",
       "2021-04-06  2222.500000  2237.659912  2214.800049  2224.750000  2224.750000   \n",
       "2021-04-07  2226.129883  2255.000000  2225.330078  2249.679932  2249.679932   \n",
       "2021-04-08  2277.959961  2284.004883  2257.679932  2265.439941  2265.439941   \n",
       "2021-04-09  2256.699951  2289.040039  2253.714111  2285.879883  2285.879883   \n",
       "2021-04-12  2266.250000  2275.320068  2238.465088  2254.790039  2254.790039   \n",
       "\n",
       "             Volume  \n",
       "Date                 \n",
       "2021-04-06  1353000  \n",
       "2021-04-07  1289900  \n",
       "2021-04-08  1358300  \n",
       "2021-04-09  1044400  \n",
       "2021-04-12  1565900  "
      ]
     },
     "execution_count": 5,
     "metadata": {},
     "output_type": "execute_result"
    }
   ],
   "source": [
    "#Checking the top 5 values from the dataset\n",
    "dataset.head(5)"
   ]
  },
  {
   "cell_type": "code",
   "execution_count": 6,
   "id": "f552a9af",
   "metadata": {},
   "outputs": [],
   "source": [
    "#Set target variable & Selecting features\n",
    "output_var=pd.DataFrame(dataset['Close'])\n",
    "features=['Open','High','Low','Volume']"
   ]
  },
  {
   "cell_type": "code",
   "execution_count": 7,
   "id": "c4f14011",
   "metadata": {},
   "outputs": [
    {
     "data": {
      "image/png": "[encoded data removed]",
      "text/plain": [
       "<Figure size 720x360 with 1 Axes>"
      ]
     },
     "metadata": {
      "needs_background": "light"
     },
     "output_type": "display_data"
    }
   ],
   "source": [
    "#Ploting Close Price History using matplotlib\n",
    "import seaborn as sns\n",
    "plt.figure(figsize=(10,5))\n",
    "plt.title('CLOSE PRICE HISTORY')\n",
    "plt.plot(dataset['Close'])\n",
    "#ax=sns.lineplot(data=df, x='timestamp',y='close', color=\"blue\");\n",
    "plt.xlabel('DAYS',fontsize=18)\n",
    "plt.ylabel('CLOSE PRICE INR',fontsize=18)\n",
    "plt.show()"
   ]
  },
  {
   "cell_type": "code",
   "execution_count": 8,
   "id": "d1642024",
   "metadata": {},
   "outputs": [],
   "source": [
    "#Extracting independent and dependent variables\n",
    "x = dataset.iloc[:, 0:5].values\n",
    "y = dataset.iloc[:, 4].values"
   ]
  },
  {
   "cell_type": "code",
   "execution_count": 9,
   "id": "0e1ce8d6",
   "metadata": {},
   "outputs": [
    {
     "name": "stdout",
     "output_type": "stream",
     "text": [
      "x-shape is: (255, 5)\n",
      "y-shape is: (255,)\n"
     ]
    }
   ],
   "source": [
    "print(\"x-shape is:\",x.shape)\n",
    "print(\"y-shape is:\",y.shape)"
   ]
  },
  {
   "cell_type": "code",
   "execution_count": 10,
   "id": "39de43e0",
   "metadata": {},
   "outputs": [],
   "source": [
    "#splitting to training set and test set\n",
    "from sklearn.model_selection import train_test_split\n",
    "x_train, x_test, y_train, y_test = train_test_split(x, y, test_size=0.26,  random_state=0)"
   ]
  },
  {
   "cell_type": "code",
   "execution_count": 11,
   "id": "a5900609",
   "metadata": {},
   "outputs": [
    {
     "name": "stdout",
     "output_type": "stream",
     "text": [
      "x-train is: (188, 5)\n",
      "y-train is: (188,)\n"
     ]
    }
   ],
   "source": [
    "print(\"x-train is:\",x_train.shape)\n",
    "print(\"y-train is:\",y_train.shape)"
   ]
  },
  {
   "cell_type": "code",
   "execution_count": 12,
   "id": "2e705802",
   "metadata": {},
   "outputs": [
    {
     "name": "stdout",
     "output_type": "stream",
     "text": [
      "x-test is: (67, 5)\n",
      "y-test is: (67,)\n"
     ]
    }
   ],
   "source": [
    "print(\"x-test is:\",x_test.shape)\n",
    "print(\"y-test is:\",y_test.shape)"
   ]
  },
  {
   "cell_type": "code",
   "execution_count": 13,
   "id": "96fc4284",
   "metadata": {},
   "outputs": [
    {
     "data": {
      "text/html": [
       "<div>\n",
       "<style scoped>\n",
       "    .dataframe tbody tr th:only-of-type {\n",
       "        vertical-align: middle;\n",
       "    }\n",
       "\n",
       "    .dataframe tbody tr th {\n",
       "        vertical-align: top;\n",
       "    }\n",
       "\n",
       "    .dataframe thead th {\n",
       "        text-align: right;\n",
       "    }\n",
       "</style>\n",
       "<table border=\"1\" class=\"dataframe\">\n",
       "  <thead>\n",
       "    <tr style=\"text-align: right;\">\n",
       "      <th></th>\n",
       "      <th>Open</th>\n",
       "      <th>High</th>\n",
       "      <th>Low</th>\n",
       "      <th>Volume</th>\n",
       "    </tr>\n",
       "    <tr>\n",
       "      <th>Date</th>\n",
       "      <th></th>\n",
       "      <th></th>\n",
       "      <th></th>\n",
       "      <th></th>\n",
       "    </tr>\n",
       "  </thead>\n",
       "  <tbody>\n",
       "    <tr>\n",
       "      <th>2021-04-06</th>\n",
       "      <td>0.000000</td>\n",
       "      <td>0.000000</td>\n",
       "      <td>0.000000</td>\n",
       "      <td>0.250554</td>\n",
       "    </tr>\n",
       "    <tr>\n",
       "      <th>2021-04-07</th>\n",
       "      <td>0.004455</td>\n",
       "      <td>0.021558</td>\n",
       "      <td>0.013449</td>\n",
       "      <td>0.235467</td>\n",
       "    </tr>\n",
       "    <tr>\n",
       "      <th>2021-04-08</th>\n",
       "      <td>0.068068</td>\n",
       "      <td>0.057619</td>\n",
       "      <td>0.054767</td>\n",
       "      <td>0.251821</td>\n",
       "    </tr>\n",
       "    <tr>\n",
       "      <th>2021-04-09</th>\n",
       "      <td>0.041975</td>\n",
       "      <td>0.063879</td>\n",
       "      <td>0.049702</td>\n",
       "      <td>0.176769</td>\n",
       "    </tr>\n",
       "    <tr>\n",
       "      <th>2021-04-12</th>\n",
       "      <td>0.053696</td>\n",
       "      <td>0.046821</td>\n",
       "      <td>0.030225</td>\n",
       "      <td>0.301458</td>\n",
       "    </tr>\n",
       "  </tbody>\n",
       "</table>\n",
       "</div>"
      ],
      "text/plain": [
       "                Open      High       Low    Volume\n",
       "Date                                              \n",
       "2021-04-06  0.000000  0.000000  0.000000  0.250554\n",
       "2021-04-07  0.004455  0.021558  0.013449  0.235467\n",
       "2021-04-08  0.068068  0.057619  0.054767  0.251821\n",
       "2021-04-09  0.041975  0.063879  0.049702  0.176769\n",
       "2021-04-12  0.053696  0.046821  0.030225  0.301458"
      ]
     },
     "execution_count": 13,
     "metadata": {},
     "output_type": "execute_result"
    }
   ],
   "source": [
    "#Scaling\n",
    "from sklearn.preprocessing import MinMaxScaler\n",
    "scaler= MinMaxScaler()\n",
    "feature_transform = scaler.fit_transform(dataset[features])\n",
    "feature_transform= pd.DataFrame(columns=features, data=feature_transform, index=dataset.index)\n",
    "feature_transform.head()"
   ]
  },
  {
   "cell_type": "code",
   "execution_count": 14,
   "id": "deafea25",
   "metadata": {},
   "outputs": [
    {
     "name": "stdout",
     "output_type": "stream",
     "text": [
      "[2984.4823901  2723.47027846 2874.22861941 2887.33644    2986.74529441\n",
      " 2716.74290486 2820.15960356 2695.48806586 2591.57377823 2832.70047138\n",
      " 2970.69078946 2672.25170732 2899.21748349 2899.62074757 2934.76879264\n",
      " 2615.49997514 2660.88407681 2961.7162547  2985.51358834 2822.14312209\n",
      " 2897.87780284 2509.46121673 2735.84820632 2848.59534916 2838.6289916\n",
      " 2759.71474359 2297.04349858 2530.16816708 2654.58673341 2413.56334993\n",
      " 2831.72391484 2672.3957961  2870.18234067 2794.75849068 2873.96781382\n",
      " 2962.51242905 2921.96004827 2263.41925485 2368.09140514 2752.69305641\n",
      " 2728.04162836 2275.18708339 2929.43328183 2856.44609112 2767.36876449\n",
      " 2783.27858407 2611.11442736 2495.08010738 2605.63028507 2937.83708889\n",
      " 2637.26874752 2934.31876773 2992.57801323 2758.54481191 2520.99746779\n",
      " 2829.83882841 2648.57415435 2408.98726699 2585.136728   2312.09300451\n",
      " 2985.85386128 2648.47610708 2294.86991608 2754.0009006  2963.92419662\n",
      " 2865.08615216 2348.16612248]\n"
     ]
    }
   ],
   "source": [
    "#Random forest for regression\n",
    "from sklearn.ensemble import RandomForestRegressor\n",
    "#Random forest builds decision trees on different samples, gets predictions from each tree\n",
    "#and select the best solution by means of average in case of regression\n",
    "Random_forest_model = RandomForestRegressor(n_estimators=500, random_state=42, min_samples_split=2, \n",
    "                                            min_samples_leaf=1, max_depth=10, bootstrap=True)\n",
    "Random_forest_model.fit(x_train, y_train)\n",
    "RF_predict = Random_forest_model.predict(x_test)\n",
    "print(RF_predict)"
   ]
  },
  {
   "cell_type": "code",
   "execution_count": 15,
   "id": "a5ea7b0f",
   "metadata": {},
   "outputs": [
    {
     "name": "stdout",
     "output_type": "stream",
     "text": [
      "(67,)\n"
     ]
    }
   ],
   "source": [
    "print(RF_predict.shape)"
   ]
  },
  {
   "cell_type": "code",
   "execution_count": 16,
   "id": "272465b9",
   "metadata": {},
   "outputs": [
    {
     "data": {
      "text/html": [
       "<div>\n",
       "<style scoped>\n",
       "    .dataframe tbody tr th:only-of-type {\n",
       "        vertical-align: middle;\n",
       "    }\n",
       "\n",
       "    .dataframe tbody tr th {\n",
       "        vertical-align: top;\n",
       "    }\n",
       "\n",
       "    .dataframe thead th {\n",
       "        text-align: right;\n",
       "    }\n",
       "</style>\n",
       "<table border=\"1\" class=\"dataframe\">\n",
       "  <thead>\n",
       "    <tr style=\"text-align: right;\">\n",
       "      <th></th>\n",
       "      <th>Actual</th>\n",
       "      <th>Predicted</th>\n",
       "    </tr>\n",
       "  </thead>\n",
       "  <tbody>\n",
       "    <tr>\n",
       "      <th>0</th>\n",
       "      <td>2981.239990</td>\n",
       "      <td>2984.482390</td>\n",
       "    </tr>\n",
       "    <tr>\n",
       "      <th>1</th>\n",
       "      <td>2725.600098</td>\n",
       "      <td>2723.470278</td>\n",
       "    </tr>\n",
       "    <tr>\n",
       "      <th>2</th>\n",
       "      <td>2875.929932</td>\n",
       "      <td>2874.228619</td>\n",
       "    </tr>\n",
       "    <tr>\n",
       "      <th>3</th>\n",
       "      <td>2891.010010</td>\n",
       "      <td>2887.336440</td>\n",
       "    </tr>\n",
       "    <tr>\n",
       "      <th>4</th>\n",
       "      <td>2984.820068</td>\n",
       "      <td>2986.745294</td>\n",
       "    </tr>\n",
       "    <tr>\n",
       "      <th>...</th>\n",
       "      <td>...</td>\n",
       "      <td>...</td>\n",
       "    </tr>\n",
       "    <tr>\n",
       "      <th>62</th>\n",
       "      <td>2296.659912</td>\n",
       "      <td>2294.869916</td>\n",
       "    </tr>\n",
       "    <tr>\n",
       "      <th>63</th>\n",
       "      <td>2753.790039</td>\n",
       "      <td>2754.000901</td>\n",
       "    </tr>\n",
       "    <tr>\n",
       "      <th>64</th>\n",
       "      <td>2961.280029</td>\n",
       "      <td>2963.924197</td>\n",
       "    </tr>\n",
       "    <tr>\n",
       "      <th>65</th>\n",
       "      <td>2865.000000</td>\n",
       "      <td>2865.086152</td>\n",
       "    </tr>\n",
       "    <tr>\n",
       "      <th>66</th>\n",
       "      <td>2345.100098</td>\n",
       "      <td>2348.166122</td>\n",
       "    </tr>\n",
       "  </tbody>\n",
       "</table>\n",
       "<p>67 rows × 2 columns</p>\n",
       "</div>"
      ],
      "text/plain": [
       "         Actual    Predicted\n",
       "0   2981.239990  2984.482390\n",
       "1   2725.600098  2723.470278\n",
       "2   2875.929932  2874.228619\n",
       "3   2891.010010  2887.336440\n",
       "4   2984.820068  2986.745294\n",
       "..          ...          ...\n",
       "62  2296.659912  2294.869916\n",
       "63  2753.790039  2754.000901\n",
       "64  2961.280029  2963.924197\n",
       "65  2865.000000  2865.086152\n",
       "66  2345.100098  2348.166122\n",
       "\n",
       "[67 rows x 2 columns]"
      ]
     },
     "execution_count": 16,
     "metadata": {},
     "output_type": "execute_result"
    }
   ],
   "source": [
    "dataset=pd.DataFrame({'Actual':y_test, 'Predicted':RF_predict})\n",
    "dataset"
   ]
  },
  {
   "cell_type": "code",
   "execution_count": 17,
   "id": "56226602",
   "metadata": {},
   "outputs": [
    {
     "name": "stdout",
     "output_type": "stream",
     "text": [
      "Mean Absolute Error: 3.1670139392063468\n",
      "Mean Squared Error: 26.26255648796762\n",
      "Root Mean Squared Error: 5.124700624228465\n"
     ]
    }
   ],
   "source": [
    "from sklearn import metrics\n",
    "print('Mean Absolute Error:', metrics.mean_absolute_error(y_test, RF_predict))\n",
    "print('Mean Squared Error:', metrics.mean_squared_error(y_test, RF_predict))\n",
    "print('Root Mean Squared Error:', np.sqrt(metrics.mean_squared_error(y_test,RF_predict)))"
   ]
  },
  {
   "cell_type": "code",
   "execution_count": 18,
   "id": "a00f8a5b",
   "metadata": {},
   "outputs": [],
   "source": [
    "RF_result=Random_forest_model.score(x_test,y_test)*100"
   ]
  },
  {
   "cell_type": "code",
   "execution_count": 19,
   "id": "035560df",
   "metadata": {},
   "outputs": [
    {
     "name": "stdout",
     "output_type": "stream",
     "text": [
      "Accuracy:  99.94 %\n"
     ]
    }
   ],
   "source": [
    "print(\"Accuracy: \",round(RF_result,2),'%')"
   ]
  },
  {
   "cell_type": "code",
   "execution_count": 20,
   "id": "3fc01f0e",
   "metadata": {},
   "outputs": [
    {
     "name": "stdout",
     "output_type": "stream",
     "text": [
      "[2987.030029 2725.810059 2875.47998  2887.469971 2987.030029 2713.969971\n",
      " 2821.26001  2704.419922 2593.209961 2836.530029 2973.5      2673.810059\n",
      " 2897.669922 2897.669922 2934.090088 2625.330078 2653.639893 2960.72998\n",
      " 2987.030029 2821.26001  2895.5      2506.320068 2738.27002  2849.040039\n",
      " 2832.360107 2757.570068 2293.629883 2529.290039 2665.310059 2409.070068\n",
      " 2836.530029 2673.810059 2868.120117 2793.439941 2872.850098 2962.120117\n",
      " 2922.580078 2265.439941 2379.909912 2751.02002  2729.570068 2265.439941\n",
      " 2928.959961 2855.610107 2768.73999  2784.26001  2609.51001  2466.090088\n",
      " 2601.840088 2942.850098 2641.649902 2934.959961 2992.909912 2757.570068\n",
      " 2520.659912 2830.429932 2666.570068 2411.560059 2585.080078 2303.429932\n",
      " 2987.030029 2641.649902 2293.629883 2751.02002  2960.72998  2868.120117\n",
      " 2341.659912]\n"
     ]
    }
   ],
   "source": [
    "#Decision tree for regression\n",
    "from sklearn.tree import DecisionTreeRegressor\n",
    "# Decision tree create a model that predicts the value of a target variable, \n",
    "# for which the decision tree uses the tree representation to solve the problem \n",
    "# in which the leaf node corresponds to a class label and attributes are represented on the internal node of the tree.\n",
    "DecisionTreemodel = DecisionTreeRegressor( random_state=42, min_samples_split=2, min_samples_leaf=1, max_depth=10)\n",
    "DecisionTreemodel.fit(x_train, y_train)\n",
    "DT_predict = DecisionTreemodel.predict(x_test)\n",
    "print(DT_predict)"
   ]
  },
  {
   "cell_type": "code",
   "execution_count": 21,
   "id": "596d3ed0",
   "metadata": {},
   "outputs": [
    {
     "name": "stdout",
     "output_type": "stream",
     "text": [
      "(67,)\n"
     ]
    }
   ],
   "source": [
    "print(DT_predict.shape)"
   ]
  },
  {
   "cell_type": "code",
   "execution_count": 22,
   "id": "a0f020e1",
   "metadata": {},
   "outputs": [
    {
     "data": {
      "text/html": [
       "<div>\n",
       "<style scoped>\n",
       "    .dataframe tbody tr th:only-of-type {\n",
       "        vertical-align: middle;\n",
       "    }\n",
       "\n",
       "    .dataframe tbody tr th {\n",
       "        vertical-align: top;\n",
       "    }\n",
       "\n",
       "    .dataframe thead th {\n",
       "        text-align: right;\n",
       "    }\n",
       "</style>\n",
       "<table border=\"1\" class=\"dataframe\">\n",
       "  <thead>\n",
       "    <tr style=\"text-align: right;\">\n",
       "      <th></th>\n",
       "      <th>Actual</th>\n",
       "      <th>Predicted</th>\n",
       "    </tr>\n",
       "  </thead>\n",
       "  <tbody>\n",
       "    <tr>\n",
       "      <th>0</th>\n",
       "      <td>2981.239990</td>\n",
       "      <td>2987.030029</td>\n",
       "    </tr>\n",
       "    <tr>\n",
       "      <th>1</th>\n",
       "      <td>2725.600098</td>\n",
       "      <td>2725.810059</td>\n",
       "    </tr>\n",
       "    <tr>\n",
       "      <th>2</th>\n",
       "      <td>2875.929932</td>\n",
       "      <td>2875.479980</td>\n",
       "    </tr>\n",
       "    <tr>\n",
       "      <th>3</th>\n",
       "      <td>2891.010010</td>\n",
       "      <td>2887.469971</td>\n",
       "    </tr>\n",
       "    <tr>\n",
       "      <th>4</th>\n",
       "      <td>2984.820068</td>\n",
       "      <td>2987.030029</td>\n",
       "    </tr>\n",
       "    <tr>\n",
       "      <th>...</th>\n",
       "      <td>...</td>\n",
       "      <td>...</td>\n",
       "    </tr>\n",
       "    <tr>\n",
       "      <th>62</th>\n",
       "      <td>2296.659912</td>\n",
       "      <td>2293.629883</td>\n",
       "    </tr>\n",
       "    <tr>\n",
       "      <th>63</th>\n",
       "      <td>2753.790039</td>\n",
       "      <td>2751.020020</td>\n",
       "    </tr>\n",
       "    <tr>\n",
       "      <th>64</th>\n",
       "      <td>2961.280029</td>\n",
       "      <td>2960.729980</td>\n",
       "    </tr>\n",
       "    <tr>\n",
       "      <th>65</th>\n",
       "      <td>2865.000000</td>\n",
       "      <td>2868.120117</td>\n",
       "    </tr>\n",
       "    <tr>\n",
       "      <th>66</th>\n",
       "      <td>2345.100098</td>\n",
       "      <td>2341.659912</td>\n",
       "    </tr>\n",
       "  </tbody>\n",
       "</table>\n",
       "<p>67 rows × 2 columns</p>\n",
       "</div>"
      ],
      "text/plain": [
       "         Actual    Predicted\n",
       "0   2981.239990  2987.030029\n",
       "1   2725.600098  2725.810059\n",
       "2   2875.929932  2875.479980\n",
       "3   2891.010010  2887.469971\n",
       "4   2984.820068  2987.030029\n",
       "..          ...          ...\n",
       "62  2296.659912  2293.629883\n",
       "63  2753.790039  2751.020020\n",
       "64  2961.280029  2960.729980\n",
       "65  2865.000000  2868.120117\n",
       "66  2345.100098  2341.659912\n",
       "\n",
       "[67 rows x 2 columns]"
      ]
     },
     "execution_count": 22,
     "metadata": {},
     "output_type": "execute_result"
    }
   ],
   "source": [
    "dataset=pd.DataFrame({'Actual':y_test, 'Predicted':DT_predict})\n",
    "dataset"
   ]
  },
  {
   "cell_type": "code",
   "execution_count": 23,
   "id": "6b5a49e5",
   "metadata": {},
   "outputs": [
    {
     "name": "stdout",
     "output_type": "stream",
     "text": [
      "Mean Absolute Error: 3.7829262089552103\n",
      "Mean Squared Error: 39.86167773950931\n",
      "Root Mean Squared Error: 6.313610515347721\n"
     ]
    }
   ],
   "source": [
    "from sklearn import metrics\n",
    "print('Mean Absolute Error:', metrics.mean_absolute_error(y_test, DT_predict))\n",
    "print('Mean Squared Error:', metrics.mean_squared_error(y_test, DT_predict))\n",
    "print('Root Mean Squared Error:', np.sqrt(metrics.mean_squared_error(y_test,DT_predict)))"
   ]
  },
  {
   "cell_type": "code",
   "execution_count": 24,
   "id": "511e38c8",
   "metadata": {},
   "outputs": [],
   "source": [
    "DT_result=DecisionTreemodel.score(x_test,y_test)*100"
   ]
  },
  {
   "cell_type": "code",
   "execution_count": 25,
   "id": "5ce3defd",
   "metadata": {},
   "outputs": [
    {
     "name": "stdout",
     "output_type": "stream",
     "text": [
      "Accuracy:  99.91 %\n"
     ]
    }
   ],
   "source": [
    "print(\"Accuracy: \",round(DT_result,2),'%')"
   ]
  },
  {
   "cell_type": "code",
   "execution_count": 26,
   "id": "48937914",
   "metadata": {},
   "outputs": [
    {
     "name": "stdout",
     "output_type": "stream",
     "text": [
      "[2982.397147   2725.31860357 2864.51283471 2885.83572814 2982.397147\n",
      " 2729.53717914 2818.851423   2697.67714143 2590.26000971 2842.23999029\n",
      " 2959.26286971 2673.69855614 2899.711391   2900.562814   2933.37004757\n",
      " 2600.04143414 2641.73856029 2945.51147471 2982.397147   2813.56713857\n",
      " 2898.12280286 2517.36289771 2720.92431643 2851.18143143 2848.33290314\n",
      " 2764.70717086 2307.27852957 2534.15708714 2681.19569629 2413.63856729\n",
      " 2841.157122   2685.90426214 2862.70427586 2786.501465   2863.47000557\n",
      " 2951.80716386 2924.43289629 2265.04143414 2373.598563   2787.66001671\n",
      " 2720.92431643 2272.83426343 2924.43289629 2855.195731   2767.23001529\n",
      " 2781.355713   2619.18282657 2508.65576186 2599.86143271 2925.26143986\n",
      " 2641.73856029 2929.65433186 2982.397147   2751.85574771 2524.067104\n",
      " 2837.84427314 2637.69287114 2411.25714986 2584.33000829 2310.361363\n",
      " 2974.18572114 2641.73856029 2301.13853243 2760.08286843 2950.12716243\n",
      " 2862.70427586 2337.18854629]\n"
     ]
    }
   ],
   "source": [
    "# K Neighbor Algorithm\n",
    "from sklearn.neighbors import KNeighborsRegressor\n",
    "# K neighbor finds the distances between a query and all the examples in the data, \n",
    "# selecting the specified number examples (K) closest to the query, \n",
    "# then averages  the most frequent labels (in the case of regression)\n",
    "knn_Model = KNeighborsRegressor(n_neighbors=7)\n",
    "knn_Model.fit(x_train,y_train)\n",
    "knn_predict=knn_Model.predict(x_test)\n",
    "print(knn_predict)"
   ]
  },
  {
   "cell_type": "code",
   "execution_count": 27,
   "id": "5289bd2b",
   "metadata": {},
   "outputs": [
    {
     "name": "stdout",
     "output_type": "stream",
     "text": [
      "(67,)\n"
     ]
    }
   ],
   "source": [
    "print(knn_predict.shape)"
   ]
  },
  {
   "cell_type": "code",
   "execution_count": 28,
   "id": "7c764bca",
   "metadata": {},
   "outputs": [
    {
     "data": {
      "text/html": [
       "<div>\n",
       "<style scoped>\n",
       "    .dataframe tbody tr th:only-of-type {\n",
       "        vertical-align: middle;\n",
       "    }\n",
       "\n",
       "    .dataframe tbody tr th {\n",
       "        vertical-align: top;\n",
       "    }\n",
       "\n",
       "    .dataframe thead th {\n",
       "        text-align: right;\n",
       "    }\n",
       "</style>\n",
       "<table border=\"1\" class=\"dataframe\">\n",
       "  <thead>\n",
       "    <tr style=\"text-align: right;\">\n",
       "      <th></th>\n",
       "      <th>Actual</th>\n",
       "      <th>Predicted</th>\n",
       "    </tr>\n",
       "  </thead>\n",
       "  <tbody>\n",
       "    <tr>\n",
       "      <th>0</th>\n",
       "      <td>2981.239990</td>\n",
       "      <td>2982.397147</td>\n",
       "    </tr>\n",
       "    <tr>\n",
       "      <th>1</th>\n",
       "      <td>2725.600098</td>\n",
       "      <td>2725.318604</td>\n",
       "    </tr>\n",
       "    <tr>\n",
       "      <th>2</th>\n",
       "      <td>2875.929932</td>\n",
       "      <td>2864.512835</td>\n",
       "    </tr>\n",
       "    <tr>\n",
       "      <th>3</th>\n",
       "      <td>2891.010010</td>\n",
       "      <td>2885.835728</td>\n",
       "    </tr>\n",
       "    <tr>\n",
       "      <th>4</th>\n",
       "      <td>2984.820068</td>\n",
       "      <td>2982.397147</td>\n",
       "    </tr>\n",
       "    <tr>\n",
       "      <th>...</th>\n",
       "      <td>...</td>\n",
       "      <td>...</td>\n",
       "    </tr>\n",
       "    <tr>\n",
       "      <th>62</th>\n",
       "      <td>2296.659912</td>\n",
       "      <td>2301.138532</td>\n",
       "    </tr>\n",
       "    <tr>\n",
       "      <th>63</th>\n",
       "      <td>2753.790039</td>\n",
       "      <td>2760.082868</td>\n",
       "    </tr>\n",
       "    <tr>\n",
       "      <th>64</th>\n",
       "      <td>2961.280029</td>\n",
       "      <td>2950.127162</td>\n",
       "    </tr>\n",
       "    <tr>\n",
       "      <th>65</th>\n",
       "      <td>2865.000000</td>\n",
       "      <td>2862.704276</td>\n",
       "    </tr>\n",
       "    <tr>\n",
       "      <th>66</th>\n",
       "      <td>2345.100098</td>\n",
       "      <td>2337.188546</td>\n",
       "    </tr>\n",
       "  </tbody>\n",
       "</table>\n",
       "<p>67 rows × 2 columns</p>\n",
       "</div>"
      ],
      "text/plain": [
       "         Actual    Predicted\n",
       "0   2981.239990  2982.397147\n",
       "1   2725.600098  2725.318604\n",
       "2   2875.929932  2864.512835\n",
       "3   2891.010010  2885.835728\n",
       "4   2984.820068  2982.397147\n",
       "..          ...          ...\n",
       "62  2296.659912  2301.138532\n",
       "63  2753.790039  2760.082868\n",
       "64  2961.280029  2950.127162\n",
       "65  2865.000000  2862.704276\n",
       "66  2345.100098  2337.188546\n",
       "\n",
       "[67 rows x 2 columns]"
      ]
     },
     "execution_count": 28,
     "metadata": {},
     "output_type": "execute_result"
    }
   ],
   "source": [
    "dataset=pd.DataFrame({'Actual':y_test, 'Predicted':knn_predict})\n",
    "dataset"
   ]
  },
  {
   "cell_type": "code",
   "execution_count": 29,
   "id": "ec7b5f6e",
   "metadata": {},
   "outputs": [
    {
     "name": "stdout",
     "output_type": "stream",
     "text": [
      "Mean Absolute Error: 8.65179039872072\n",
      "Mean Squared Error: 140.07501012754955\n",
      "Root Mean Squared Error: 11.835328898156973\n"
     ]
    }
   ],
   "source": [
    "from sklearn import metrics\n",
    "print('Mean Absolute Error:', metrics.mean_absolute_error(y_test, knn_predict))\n",
    "print('Mean Squared Error:', metrics.mean_squared_error(y_test, knn_predict))\n",
    "print('Root Mean Squared Error:', np.sqrt(metrics.mean_squared_error(y_test,knn_predict)))"
   ]
  },
  {
   "cell_type": "code",
   "execution_count": 30,
   "id": "f5a09775",
   "metadata": {},
   "outputs": [],
   "source": [
    "knn_result=knn_Model.score(x_test,y_test)*100"
   ]
  },
  {
   "cell_type": "code",
   "execution_count": 31,
   "id": "f3a0eb3a",
   "metadata": {},
   "outputs": [
    {
     "name": "stdout",
     "output_type": "stream",
     "text": [
      "Accuracy:  99.67 %\n"
     ]
    }
   ],
   "source": [
    "print(\"Accuracy: \",round(knn_result,2),'%')"
   ]
  },
  {
   "cell_type": "code",
   "execution_count": 32,
   "id": "a0dd0e62",
   "metadata": {},
   "outputs": [],
   "source": [
    "# Comparing accuracy for various machine learning algorithms\n",
    "Model = ['RANDOM FOREST','DECISION TREE','K- NEIGHBOUR']\n",
    "accuracy = [RF_result,DT_result,knn_result]"
   ]
  },
  {
   "cell_type": "code",
   "execution_count": 33,
   "id": "fd9a5d68",
   "metadata": {},
   "outputs": [
    {
     "data": {
      "image/png": "[encoded data removed]",
      "text/plain": [
       "<Figure size 720x360 with 1 Axes>"
      ]
     },
     "metadata": {},
     "output_type": "display_data"
    }
   ],
   "source": [
    "sns.set_style(\"whitegrid\")\n",
    "plt.figure(figsize=(10,5))\n",
    "plt.yticks(np.arange(0,100,10))\n",
    "plt.ylabel(\"TEST ACCURACY  %\",fontsize=15)\n",
    "plt.xlabel(\"MACHINE LEARNING ALGORITHMS\", fontsize=15)\n",
    "sns.barplot(x= Model, y= accuracy)\n",
    "plt.show()"
   ]
  },
  {
   "cell_type": "code",
   "execution_count": 34,
   "id": "dd99a748",
   "metadata": {},
   "outputs": [
    {
     "data": {
      "image/png": "[encoded data removed]",
      "text/plain": [
       "<Figure size 720x360 with 1 Axes>"
      ]
     },
     "metadata": {},
     "output_type": "display_data"
    }
   ],
   "source": [
    "sns.set_style(\"whitegrid\")\n",
    "plt.figure(figsize=(10,5))\n",
    "plt.ylim(99,100)\n",
    "plt.ylabel(\"TEST ACCURACY %\",fontsize=15)\n",
    "plt.xlabel(\"MACHINE LEARNING ALGORITHMS\",fontsize=15)\n",
    "sns.barplot(x= Model, y= accuracy)\n",
    "plt.show()"
   ]
  }
 ],
 "metadata": {
  "kernelspec": {
   "display_name": "Python 3 (ipykernel)",
   "language": "python",
   "name": "python3"
  },
  "language_info": {
   "codemirror_mode": {
    "name": "ipython",
    "version": 3
   },
   "file_extension": ".py",
   "mimetype": "text/x-python",
   "name": "python",
   "nbconvert_exporter": "python",
   "pygments_lexer": "ipython3",
   "version": "3.9.7"
  }
 },
 "nbformat": 4,
 "nbformat_minor": 5
}
